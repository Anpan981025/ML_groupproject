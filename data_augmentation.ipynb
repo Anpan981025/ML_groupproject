{
 "cells": [
  {
   "cell_type": "code",
   "execution_count": 1,
   "id": "b11d397b",
   "metadata": {},
   "outputs": [
    {
     "name": "stderr",
     "output_type": "stream",
     "text": [
      "[nltk_data] Downloading package stopwords to\n",
      "[nltk_data]     /Users/anfang/nltk_data...\n",
      "[nltk_data]   Package stopwords is already up-to-date!\n",
      "[nltk_data] Downloading package wordnet to /Users/anfang/nltk_data...\n",
      "[nltk_data]   Package wordnet is already up-to-date!\n"
     ]
    }
   ],
   "source": [
    "import pandas as pd\n",
    "import numpy as np\n",
    "import re\n",
    "import nltk\n",
    "nltk.download('stopwords')\n",
    "nltk.download(\"wordnet\")\n",
    "from nltk.stem.porter import PorterStemmer\n",
    "from nltk.corpus import stopwords\n",
    "%matplotlib inline\n",
    "from matplotlib import pyplot as plt\n",
    "import warnings\n",
    "warnings.filterwarnings(\"ignore\")"
   ]
  },
  {
   "cell_type": "code",
   "execution_count": 2,
   "id": "60ec1e36",
   "metadata": {},
   "outputs": [
    {
     "name": "stdout",
     "output_type": "stream",
     "text": [
      "(24783, 6)\n"
     ]
    }
   ],
   "source": [
    "dataset = pd.read_csv('dataset.csv', index_col = 'Unnamed: 0')\n",
    "print(dataset.shape)"
   ]
  },
  {
   "cell_type": "code",
   "execution_count": 3,
   "id": "7dc3a6af",
   "metadata": {},
   "outputs": [
    {
     "data": {
      "text/html": [
       "<div>\n",
       "<style scoped>\n",
       "    .dataframe tbody tr th:only-of-type {\n",
       "        vertical-align: middle;\n",
       "    }\n",
       "\n",
       "    .dataframe tbody tr th {\n",
       "        vertical-align: top;\n",
       "    }\n",
       "\n",
       "    .dataframe thead th {\n",
       "        text-align: right;\n",
       "    }\n",
       "</style>\n",
       "<table border=\"1\" class=\"dataframe\">\n",
       "  <thead>\n",
       "    <tr style=\"text-align: right;\">\n",
       "      <th></th>\n",
       "      <th>count</th>\n",
       "      <th>hate_speech</th>\n",
       "      <th>offensive_language</th>\n",
       "      <th>neither</th>\n",
       "      <th>class</th>\n",
       "      <th>tweet</th>\n",
       "    </tr>\n",
       "  </thead>\n",
       "  <tbody>\n",
       "    <tr>\n",
       "      <th>0</th>\n",
       "      <td>3</td>\n",
       "      <td>0</td>\n",
       "      <td>0</td>\n",
       "      <td>3</td>\n",
       "      <td>2</td>\n",
       "      <td>!!! RT @mayasolovely: As a woman you shouldn't...</td>\n",
       "    </tr>\n",
       "    <tr>\n",
       "      <th>1</th>\n",
       "      <td>3</td>\n",
       "      <td>0</td>\n",
       "      <td>3</td>\n",
       "      <td>0</td>\n",
       "      <td>1</td>\n",
       "      <td>!!!!! RT @mleew17: boy dats cold...tyga dwn ba...</td>\n",
       "    </tr>\n",
       "    <tr>\n",
       "      <th>2</th>\n",
       "      <td>3</td>\n",
       "      <td>0</td>\n",
       "      <td>3</td>\n",
       "      <td>0</td>\n",
       "      <td>1</td>\n",
       "      <td>!!!!!!! RT @UrKindOfBrand Dawg!!!! RT @80sbaby...</td>\n",
       "    </tr>\n",
       "    <tr>\n",
       "      <th>3</th>\n",
       "      <td>3</td>\n",
       "      <td>0</td>\n",
       "      <td>2</td>\n",
       "      <td>1</td>\n",
       "      <td>1</td>\n",
       "      <td>!!!!!!!!! RT @C_G_Anderson: @viva_based she lo...</td>\n",
       "    </tr>\n",
       "    <tr>\n",
       "      <th>4</th>\n",
       "      <td>6</td>\n",
       "      <td>0</td>\n",
       "      <td>6</td>\n",
       "      <td>0</td>\n",
       "      <td>1</td>\n",
       "      <td>!!!!!!!!!!!!! RT @ShenikaRoberts: The shit you...</td>\n",
       "    </tr>\n",
       "  </tbody>\n",
       "</table>\n",
       "</div>"
      ],
      "text/plain": [
       "   count  hate_speech  offensive_language  neither  class  \\\n",
       "0      3            0                   0        3      2   \n",
       "1      3            0                   3        0      1   \n",
       "2      3            0                   3        0      1   \n",
       "3      3            0                   2        1      1   \n",
       "4      6            0                   6        0      1   \n",
       "\n",
       "                                               tweet  \n",
       "0  !!! RT @mayasolovely: As a woman you shouldn't...  \n",
       "1  !!!!! RT @mleew17: boy dats cold...tyga dwn ba...  \n",
       "2  !!!!!!! RT @UrKindOfBrand Dawg!!!! RT @80sbaby...  \n",
       "3  !!!!!!!!! RT @C_G_Anderson: @viva_based she lo...  \n",
       "4  !!!!!!!!!!!!! RT @ShenikaRoberts: The shit you...  "
      ]
     },
     "execution_count": 3,
     "metadata": {},
     "output_type": "execute_result"
    }
   ],
   "source": [
    "dataset.head()"
   ]
  },
  {
   "cell_type": "code",
   "execution_count": 4,
   "id": "b4730e05",
   "metadata": {},
   "outputs": [],
   "source": [
    "label =list(dataset['class'].values)\n",
    "text = list(dataset['tweet'].values)"
   ]
  },
  {
   "cell_type": "code",
   "execution_count": 5,
   "id": "78c6ec3b",
   "metadata": {},
   "outputs": [
    {
     "name": "stdout",
     "output_type": "stream",
     "text": [
      "24783\n",
      "24783\n"
     ]
    }
   ],
   "source": [
    "print(len(label))\n",
    "print(len(text))"
   ]
  },
  {
   "cell_type": "code",
   "execution_count": 7,
   "id": "5c27ddf5",
   "metadata": {},
   "outputs": [
    {
     "data": {
      "text/plain": [
       "<function TextIOWrapper.close()>"
      ]
     },
     "execution_count": 7,
     "metadata": {},
     "output_type": "execute_result"
    }
   ],
   "source": [
    "file2 = open(\"data/input_data_2.txt\", \"a\")\n",
    "file3 = open(\"data/input_data_3.txt\", \"a\")\n",
    "for i in range(len(label)):\n",
    "    write_in = str(label[i]) + \"\\t\" + text[i] + \"\\n\"\n",
    "    if label[i] == 2:\n",
    "        file2.write(write_in)\n",
    "    if label[i] == 0:\n",
    "        file3.write(write_in)\n",
    "file2.close\n",
    "file3.close"
   ]
  },
  {
   "cell_type": "code",
   "execution_count": 8,
   "id": "15cd8f6d",
   "metadata": {},
   "outputs": [
    {
     "data": {
      "text/plain": [
       "1    19190\n",
       "2     4163\n",
       "0     1430\n",
       "Name: class, dtype: int64"
      ]
     },
     "execution_count": 8,
     "metadata": {},
     "output_type": "execute_result"
    }
   ],
   "source": [
    "dataset['class'].value_counts()"
   ]
  },
  {
   "cell_type": "code",
   "execution_count": 11,
   "id": "83667002",
   "metadata": {},
   "outputs": [],
   "source": [
    "# do basic data preprocess, then generate new data\n",
    "import string\n",
    "def data_preprocess(review):\n",
    "    review = re.sub(r'^\\s+|\\s+?$','',review) # remove leading and trailing whitespace\n",
    "    review = re.sub(r'@[\\w\\-]+', '', review) # remove mentions\n",
    "    review = re.sub(r'RT[\\s]+', '', review) #remove retweet text 'RT'\n",
    "    review = re.sub('[^a-zA-Z]',' ',review)#replace non-character with space\n",
    "    review = review.lower() #lower the text\n",
    "    review = re.sub('\\[.*?\\]', '', review)\n",
    "    review = re.sub('https?://\\S+|www\\.\\S+', '', review) # remove hyperlinks\n",
    "    review = re.sub(r'#', '', review) # remove hashtags\n",
    "    review = re.sub('[%s]' % re.escape(string.punctuation), '', review) # remove escape characters\n",
    "    review = re.sub('\\n', '', review)\n",
    "    review = re.sub('\\w*\\d\\w*', '', review)\n",
    "    return review"
   ]
  },
  {
   "cell_type": "code",
   "execution_count": 12,
   "id": "3df328c5",
   "metadata": {},
   "outputs": [
    {
     "data": {
      "text/plain": [
       "<function TextIOWrapper.close()>"
      ]
     },
     "execution_count": 12,
     "metadata": {},
     "output_type": "execute_result"
    }
   ],
   "source": [
    "file2_2 = open(\"data/input_data_2_2.txt\", \"a\")\n",
    "file3_2 = open(\"data/input_data_3_2.txt\", \"a\")\n",
    "for i in range(len(label)):\n",
    "    new_text = data_preprocess(text[i])\n",
    "    write_in = str(label[i]) + \"\\t\" + new_text + \"\\n\"\n",
    "    if label[i] == 2:\n",
    "        file2_2.write(write_in)\n",
    "    if label[i] == 0:\n",
    "        file3_2.write(write_in)\n",
    "file2_2.close\n",
    "file3_2.close"
   ]
  },
  {
   "cell_type": "markdown",
   "id": "1e7c74a7",
   "metadata": {},
   "source": [
    "command line as follows:<br>\n",
    "python code/augment.py --input=data/input_data_2.txt --output=2_0.txt --num_aug=5<br>\n",
    "python code/augment.py --input=data/input_data_2_2.txt --output=2_1.txt --num_aug=5<br>\n",
    "python code/augment.py --input=data/input_data_3.txt --output=3_0.txt --num_aug=14<br>\n",
    "python code/augment.py --input=data/input_data_3_2.txt --output=3_1.txt --num_aug=14<br>"
   ]
  },
  {
   "cell_type": "code",
   "execution_count": null,
   "id": "80dbc137",
   "metadata": {},
   "outputs": [],
   "source": []
  }
 ],
 "metadata": {
  "kernelspec": {
   "display_name": "Python 3 (ipykernel)",
   "language": "python",
   "name": "python3"
  },
  "language_info": {
   "codemirror_mode": {
    "name": "ipython",
    "version": 3
   },
   "file_extension": ".py",
   "mimetype": "text/x-python",
   "name": "python",
   "nbconvert_exporter": "python",
   "pygments_lexer": "ipython3",
   "version": "3.9.6"
  }
 },
 "nbformat": 4,
 "nbformat_minor": 5
}
