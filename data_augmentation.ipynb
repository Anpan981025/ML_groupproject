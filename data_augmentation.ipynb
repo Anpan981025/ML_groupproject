{
 "cells": [
  {
   "cell_type": "code",
   "execution_count": 1,
   "id": "b11d397b",
   "metadata": {},
   "outputs": [
    {
     "name": "stderr",
     "output_type": "stream",
     "text": [
      "[nltk_data] Downloading package stopwords to\n",
      "[nltk_data]     /Users/anfang/nltk_data...\n",
      "[nltk_data]   Package stopwords is already up-to-date!\n",
      "[nltk_data] Downloading package wordnet to /Users/anfang/nltk_data...\n",
      "[nltk_data]   Package wordnet is already up-to-date!\n"
     ]
    }
   ],
   "source": [
    "import pandas as pd\n",
    "import numpy as np\n",
    "import re\n",
    "import nltk\n",
    "nltk.download('stopwords')\n",
    "nltk.download(\"wordnet\")\n",
    "from nltk.stem.porter import PorterStemmer\n",
    "from nltk.corpus import stopwords\n",
    "%matplotlib inline\n",
    "from matplotlib import pyplot as plt\n",
    "import warnings\n",
    "warnings.filterwarnings(\"ignore\")"
   ]
  },
  {
   "cell_type": "markdown",
   "id": "0ce3b972",
   "metadata": {},
   "source": [
    "## Original Dataset"
   ]
  },
  {
   "cell_type": "code",
   "execution_count": 2,
   "id": "60ec1e36",
   "metadata": {},
   "outputs": [
    {
     "name": "stdout",
     "output_type": "stream",
     "text": [
      "(24783, 6)\n"
     ]
    }
   ],
   "source": [
    "dataset = pd.read_csv('dataset.csv', index_col = 'Unnamed: 0')\n",
    "print(dataset.shape)"
   ]
  },
  {
   "cell_type": "code",
   "execution_count": 3,
   "id": "7dc3a6af",
   "metadata": {},
   "outputs": [
    {
     "data": {
      "text/html": [
       "<div>\n",
       "<style scoped>\n",
       "    .dataframe tbody tr th:only-of-type {\n",
       "        vertical-align: middle;\n",
       "    }\n",
       "\n",
       "    .dataframe tbody tr th {\n",
       "        vertical-align: top;\n",
       "    }\n",
       "\n",
       "    .dataframe thead th {\n",
       "        text-align: right;\n",
       "    }\n",
       "</style>\n",
       "<table border=\"1\" class=\"dataframe\">\n",
       "  <thead>\n",
       "    <tr style=\"text-align: right;\">\n",
       "      <th></th>\n",
       "      <th>count</th>\n",
       "      <th>hate_speech</th>\n",
       "      <th>offensive_language</th>\n",
       "      <th>neither</th>\n",
       "      <th>class</th>\n",
       "      <th>tweet</th>\n",
       "    </tr>\n",
       "  </thead>\n",
       "  <tbody>\n",
       "    <tr>\n",
       "      <th>0</th>\n",
       "      <td>3</td>\n",
       "      <td>0</td>\n",
       "      <td>0</td>\n",
       "      <td>3</td>\n",
       "      <td>2</td>\n",
       "      <td>!!! RT @mayasolovely: As a woman you shouldn't...</td>\n",
       "    </tr>\n",
       "    <tr>\n",
       "      <th>1</th>\n",
       "      <td>3</td>\n",
       "      <td>0</td>\n",
       "      <td>3</td>\n",
       "      <td>0</td>\n",
       "      <td>1</td>\n",
       "      <td>!!!!! RT @mleew17: boy dats cold...tyga dwn ba...</td>\n",
       "    </tr>\n",
       "    <tr>\n",
       "      <th>2</th>\n",
       "      <td>3</td>\n",
       "      <td>0</td>\n",
       "      <td>3</td>\n",
       "      <td>0</td>\n",
       "      <td>1</td>\n",
       "      <td>!!!!!!! RT @UrKindOfBrand Dawg!!!! RT @80sbaby...</td>\n",
       "    </tr>\n",
       "    <tr>\n",
       "      <th>3</th>\n",
       "      <td>3</td>\n",
       "      <td>0</td>\n",
       "      <td>2</td>\n",
       "      <td>1</td>\n",
       "      <td>1</td>\n",
       "      <td>!!!!!!!!! RT @C_G_Anderson: @viva_based she lo...</td>\n",
       "    </tr>\n",
       "    <tr>\n",
       "      <th>4</th>\n",
       "      <td>6</td>\n",
       "      <td>0</td>\n",
       "      <td>6</td>\n",
       "      <td>0</td>\n",
       "      <td>1</td>\n",
       "      <td>!!!!!!!!!!!!! RT @ShenikaRoberts: The shit you...</td>\n",
       "    </tr>\n",
       "  </tbody>\n",
       "</table>\n",
       "</div>"
      ],
      "text/plain": [
       "   count  hate_speech  offensive_language  neither  class  \\\n",
       "0      3            0                   0        3      2   \n",
       "1      3            0                   3        0      1   \n",
       "2      3            0                   3        0      1   \n",
       "3      3            0                   2        1      1   \n",
       "4      6            0                   6        0      1   \n",
       "\n",
       "                                               tweet  \n",
       "0  !!! RT @mayasolovely: As a woman you shouldn't...  \n",
       "1  !!!!! RT @mleew17: boy dats cold...tyga dwn ba...  \n",
       "2  !!!!!!! RT @UrKindOfBrand Dawg!!!! RT @80sbaby...  \n",
       "3  !!!!!!!!! RT @C_G_Anderson: @viva_based she lo...  \n",
       "4  !!!!!!!!!!!!! RT @ShenikaRoberts: The shit you...  "
      ]
     },
     "execution_count": 3,
     "metadata": {},
     "output_type": "execute_result"
    }
   ],
   "source": [
    "dataset.head()"
   ]
  },
  {
   "cell_type": "code",
   "execution_count": 4,
   "id": "b4730e05",
   "metadata": {},
   "outputs": [],
   "source": [
    "label =list(dataset['class'].values)\n",
    "text = list(dataset['tweet'].values)"
   ]
  },
  {
   "cell_type": "code",
   "execution_count": 5,
   "id": "78c6ec3b",
   "metadata": {},
   "outputs": [
    {
     "name": "stdout",
     "output_type": "stream",
     "text": [
      "24783\n",
      "24783\n"
     ]
    }
   ],
   "source": [
    "print(len(label))\n",
    "print(len(text))"
   ]
  },
  {
   "cell_type": "code",
   "execution_count": 6,
   "id": "15cd8f6d",
   "metadata": {},
   "outputs": [
    {
     "data": {
      "text/plain": [
       "1    19190\n",
       "2     4163\n",
       "0     1430\n",
       "Name: class, dtype: int64"
      ]
     },
     "execution_count": 6,
     "metadata": {},
     "output_type": "execute_result"
    }
   ],
   "source": [
    "dataset['class'].value_counts()"
   ]
  },
  {
   "cell_type": "code",
   "execution_count": 7,
   "id": "5c27ddf5",
   "metadata": {},
   "outputs": [],
   "source": [
    "import os\n",
    "file_lst = [\"aug_data/input_data_2.txt\", \"aug_data/input_data_0.txt\", \\\n",
    "            \"aug_data/1_0.txt\", \"aug_data/2_0.txt\", \"aug_data/0_0.txt\"\n",
    "           ]\n",
    "for f in file_lst:\n",
    "    if os.path.exists(f):\n",
    "        os.remove(f)"
   ]
  },
  {
   "cell_type": "markdown",
   "id": "ad00d616",
   "metadata": {},
   "source": [
    "## Data Preprocess"
   ]
  },
  {
   "cell_type": "code",
   "execution_count": 8,
   "id": "83667002",
   "metadata": {},
   "outputs": [],
   "source": [
    "# do basic data preprocess, then generate new data\n",
    "stemmer = nltk.PorterStemmer()\n",
    "stopword = set(stopwords.words('english'))\n",
    "import string\n",
    "def data_preprocess(review):\n",
    "    review = re.sub(r\"http\\S+\", '', review) # remove url\n",
    "    review = re.sub(r'^\\s+|\\s+?$','',review) # remove leading and trailing whitespace\n",
    "    review = re.sub(r'@[\\w\\-]+', '', review) # remove mentions\n",
    "    review = re.sub(r'RT[\\s]+', '', review) #remove retweet text 'RT'\n",
    "    review = re.sub('[^a-zA-Z]',' ',review)#replace non-character with space\n",
    "    review = review.lower() #lower the text\n",
    "    review = re.sub('\\[.*?\\]', '', review)\n",
    "    #review = re.sub('https?://\\S+|www\\.\\S+', '', review) # remove hyperlinks\n",
    "    review = re.sub(r'#', '', review) # remove hashtags\n",
    "    review = re.sub('[%s]' % re.escape(string.punctuation), '', review) # remove escape characters\n",
    "    review = re.sub('\\n', '', review)\n",
    "    review = re.sub('\\w*\\d\\w*', '', review)\n",
    "    review = [word for word in review.split(' ') if word not in stopword and word not in string.punctuation] #remove stopwords and punctuations and tokenize\n",
    "    review=\" \".join(review)\n",
    "    review = [stemmer.stem(word) for word in review.split(' ')] #use PorterStemmer\n",
    "    \n",
    "    review=\" \".join(review)\n",
    "    return review"
   ]
  },
  {
   "cell_type": "code",
   "execution_count": 9,
   "id": "3df328c5",
   "metadata": {},
   "outputs": [
    {
     "data": {
      "text/plain": [
       "<function TextIOWrapper.close()>"
      ]
     },
     "execution_count": 9,
     "metadata": {},
     "output_type": "execute_result"
    }
   ],
   "source": [
    "#slipt into different file before data augmentation\n",
    "file2 = open(\"aug_data/input_data_2.txt\", \"a\")\n",
    "file0 = open(\"aug_data/input_data_0.txt\", \"a\")\n",
    "file1 = open(\"aug_data/1_0.txt\", \"a\")\n",
    "for i in range(len(label)):\n",
    "    new_text = data_preprocess(text[i])\n",
    "    write_in = str(label[i]) + \"\\t\" + str(new_text) + \"\\n\"\n",
    "    if label[i] == 2:\n",
    "        file2.write(write_in)\n",
    "    if label[i] == 0:\n",
    "        file0.write(write_in)\n",
    "    if label[i] == 1:\n",
    "        file1.write(write_in)\n",
    "file2.close\n",
    "file0.close\n",
    "file1.close"
   ]
  },
  {
   "cell_type": "markdown",
   "id": "a7446cc5",
   "metadata": {},
   "source": [
    "## Data Augmentation"
   ]
  },
  {
   "cell_type": "code",
   "execution_count": 10,
   "id": "80dbc137",
   "metadata": {},
   "outputs": [
    {
     "name": "stdout",
     "output_type": "stream",
     "text": [
      "/Users/anfang/Desktop/JHU/machine learning/Group_Project/ML_groupproject/aug_code/eda.py:177: SyntaxWarning: \"is not\" with a literal. Did you mean \"!=\"?\n",
      "  words = [word for word in words if word is not '']\n",
      "generated augmented sentences with eda for aug_data/input_data_2.txt to aug_data/2_0.txt with num_aug=4\n",
      "generated augmented sentences with eda for aug_data/input_data_0.txt to aug_data/0_0.txt with num_aug=14\n"
     ]
    }
   ],
   "source": [
    "# use EDA to generate data of class 2 and class 0\n",
    "!python aug_code/augment.py --input=aug_data/input_data_2.txt --output=aug_data/2_0.txt --num_aug=4\n",
    "!python aug_code/augment.py --input=aug_data/input_data_0.txt --output=aug_data/0_0.txt --num_aug=14"
   ]
  },
  {
   "cell_type": "code",
   "execution_count": 12,
   "id": "488dc0d3",
   "metadata": {},
   "outputs": [
    {
     "name": "stdout",
     "output_type": "stream",
     "text": [
      "   19995 aug_data/2_0.txt\n",
      "   19260 aug_data/0_0.txt\n"
     ]
    }
   ],
   "source": [
    "!wc -l aug_data/2_0.txt\n",
    "!wc -l aug_data/0_0.txt"
   ]
  },
  {
   "cell_type": "markdown",
   "id": "db5619c6",
   "metadata": {},
   "source": [
    "We can see that the number of class 2 and 0 are near to the number of class1"
   ]
  },
  {
   "cell_type": "code",
   "execution_count": 13,
   "id": "557d8865",
   "metadata": {},
   "outputs": [],
   "source": [
    "processed_aug_data = [\"aug_data/2_0.txt\",\\\n",
    "                      \"aug_data/1_0.txt\",\\\n",
    "                     \"aug_data/0_0.txt\"]"
   ]
  },
  {
   "cell_type": "code",
   "execution_count": 14,
   "id": "d7fdac3a",
   "metadata": {},
   "outputs": [],
   "source": [
    "df_csvs = []\n",
    "for csv_file in processed_aug_data:\n",
    "    df_tmp = pd.read_table(csv_file, sep=\"\\t\", header = None)\n",
    "    df_csvs.append(df_tmp)\n",
    "df_aug = pd.concat(df_csvs)\n",
    "df_aug.dropna(axis=0, how = \"any\", inplace = True)\n",
    "df_aug.rename(columns = {0: \"class\", 1: \"processed_tweet\"}, inplace = True)"
   ]
  },
  {
   "cell_type": "code",
   "execution_count": 15,
   "id": "9d473d42",
   "metadata": {},
   "outputs": [
    {
     "data": {
      "text/html": [
       "<div>\n",
       "<style scoped>\n",
       "    .dataframe tbody tr th:only-of-type {\n",
       "        vertical-align: middle;\n",
       "    }\n",
       "\n",
       "    .dataframe tbody tr th {\n",
       "        vertical-align: top;\n",
       "    }\n",
       "\n",
       "    .dataframe thead th {\n",
       "        text-align: right;\n",
       "    }\n",
       "</style>\n",
       "<table border=\"1\" class=\"dataframe\">\n",
       "  <thead>\n",
       "    <tr style=\"text-align: right;\">\n",
       "      <th></th>\n",
       "      <th>class</th>\n",
       "      <th>processed_tweet</th>\n",
       "    </tr>\n",
       "  </thead>\n",
       "  <tbody>\n",
       "    <tr>\n",
       "      <th>0</th>\n",
       "      <td>2</td>\n",
       "      <td>woman complain clean hous adenosine monophosph...</td>\n",
       "    </tr>\n",
       "    <tr>\n",
       "      <th>1</th>\n",
       "      <td>2</td>\n",
       "      <td>woman complain clean hous amp man alway take t...</td>\n",
       "    </tr>\n",
       "    <tr>\n",
       "      <th>2</th>\n",
       "      <td>2</td>\n",
       "      <td>woman complain clean hous amp man alway take t...</td>\n",
       "    </tr>\n",
       "    <tr>\n",
       "      <th>3</th>\n",
       "      <td>2</td>\n",
       "      <td>womanhood woman complain clean hous amp man al...</td>\n",
       "    </tr>\n",
       "    <tr>\n",
       "      <th>4</th>\n",
       "      <td>2</td>\n",
       "      <td>woman complain clean hous amp man alway take t...</td>\n",
       "    </tr>\n",
       "  </tbody>\n",
       "</table>\n",
       "</div>"
      ],
      "text/plain": [
       "   class                                    processed_tweet\n",
       "0      2  woman complain clean hous adenosine monophosph...\n",
       "1      2  woman complain clean hous amp man alway take t...\n",
       "2      2  woman complain clean hous amp man alway take t...\n",
       "3      2  womanhood woman complain clean hous amp man al...\n",
       "4      2  woman complain clean hous amp man alway take t..."
      ]
     },
     "execution_count": 15,
     "metadata": {},
     "output_type": "execute_result"
    }
   ],
   "source": [
    "df_aug.head()"
   ]
  },
  {
   "cell_type": "code",
   "execution_count": 16,
   "id": "a61c140e",
   "metadata": {},
   "outputs": [
    {
     "data": {
      "text/plain": [
       "array([2, 2, 2, ..., 0, 0, 0])"
      ]
     },
     "execution_count": 16,
     "metadata": {},
     "output_type": "execute_result"
    }
   ],
   "source": [
    "y=df_aug['class'].values\n",
    "y"
   ]
  },
  {
   "cell_type": "code",
   "execution_count": 17,
   "id": "d43767aa",
   "metadata": {},
   "outputs": [
    {
     "data": {
      "text/plain": [
       "2    19995\n",
       "0    19260\n",
       "1    19104\n",
       "Name: class, dtype: int64"
      ]
     },
     "execution_count": 17,
     "metadata": {},
     "output_type": "execute_result"
    }
   ],
   "source": [
    "df_aug['class'].value_counts()"
   ]
  },
  {
   "cell_type": "code",
   "execution_count": 18,
   "id": "13ab60f6",
   "metadata": {},
   "outputs": [
    {
     "data": {
      "image/png": "[encoded data removed]",
      "text/plain": [
       "<Figure size 432x288 with 1 Axes>"
      ]
     },
     "metadata": {
      "needs_background": "light"
     },
     "output_type": "display_data"
    }
   ],
   "source": [
    "plt.hist(df_aug['class'],align='mid')\n",
    "col_names=['Hate speech','Offensive',\"Neither\"]\n",
    "x_values = np.arange(0, len(col_names))\n",
    "plt.xticks(x_values, col_names)\n",
    "plt.xlabel('Class')\n",
    "plt.ylabel('Count')\n",
    "plt.title('Count of Tweets per Class')\n",
    "plt.show()"
   ]
  },
  {
   "cell_type": "code",
   "execution_count": 19,
   "id": "a8a3f3c3",
   "metadata": {},
   "outputs": [
    {
     "data": {
      "text/plain": [
       "0                                    cross gaywad\n",
       "1                                    queer gaywad\n",
       "2                              fairy queer gaywad\n",
       "3                                    queer gaywad\n",
       "4                                    queer gaywad\n",
       "                           ...                   \n",
       "19255    reason shelbi hatred hate sandwich queer\n",
       "19256         reason shelbi detest sandwich queer\n",
       "19257       reason shelbi hate sandwich homophile\n",
       "19258           reason queer hate sandwich shelbi\n",
       "19259           reason shelbi hate sandwich queer\n",
       "Name: processed_tweet, Length: 19260, dtype: object"
      ]
     },
     "execution_count": 19,
     "metadata": {},
     "output_type": "execute_result"
    }
   ],
   "source": [
    "df_aug[df_aug['class']==0]['processed_tweet']"
   ]
  },
  {
   "cell_type": "markdown",
   "id": "d03b99c7",
   "metadata": {},
   "source": [
    "## Embedding"
   ]
  },
  {
   "cell_type": "code",
   "execution_count": 20,
   "id": "0452c177",
   "metadata": {},
   "outputs": [
    {
     "name": "stderr",
     "output_type": "stream",
     "text": [
      "[nltk_data] Downloading package vader_lexicon to\n",
      "[nltk_data]     /Users/anfang/nltk_data...\n",
      "[nltk_data]   Package vader_lexicon is already up-to-date!\n"
     ]
    }
   ],
   "source": [
    "#Sentiment analysis\n",
    "from nltk.sentiment.vader import SentimentIntensityAnalyzer as sentimentanalyzer\n",
    "import nltk\n",
    "nltk.download('vader_lexicon')\n",
    "\n",
    "sentiment_analyzer = sentimentanalyzer()\n",
    "\n",
    "def sentiment_analysis(tweet):   \n",
    "    sentiment = sentiment_analyzer.polarity_scores(tweet)    \n",
    "    features = [sentiment['neg'], sentiment['pos'], sentiment['neu'], sentiment['compound']]\n",
    "    return features\n",
    "\n",
    "def sentiment_analysis_array(tweets):\n",
    "    features=[]\n",
    "    for t in tweets:\n",
    "        features.append(sentiment_analysis(str(t)))\n",
    "    return np.array(features)\n",
    "\n",
    "sentiment_features_0 = sentiment_analysis_array(df_aug[df_aug['class']==0]['processed_tweet'])\n",
    "new_features_0 = pd.DataFrame({'Neg':sentiment_features_0[:,0],'Pos':sentiment_features_0[:,1],'Neu':sentiment_features_0[:,2],'Compound':sentiment_features_0[:,3]})\n",
    "\n",
    "sentiment_features_1 = sentiment_analysis_array(df_aug[df_aug['class']==1]['processed_tweet'])\n",
    "new_features_1 = pd.DataFrame({'Neg':sentiment_features_1[:,0],'Pos':sentiment_features_1[:,1],'Neu':sentiment_features_1[:,2],'Compound':sentiment_features_1[:,3]})\n",
    "\n",
    "sentiment_features_2 = sentiment_analysis_array(df_aug[df_aug['class']==2]['processed_tweet'])\n",
    "new_features_2 = pd.DataFrame({'Neg':sentiment_features_2[:,0],'Pos':sentiment_features_2[:,1],'Neu':sentiment_features_2[:,2],'Compound':sentiment_features_2[:,3]})"
   ]
  },
  {
   "cell_type": "code",
   "execution_count": 21,
   "id": "89aa7fa4",
   "metadata": {},
   "outputs": [
    {
     "data": {
      "text/plain": [
       "Neg         0.383028\n",
       "Pos         0.099805\n",
       "Neu         0.517065\n",
       "Compound   -0.383183\n",
       "dtype: float64"
      ]
     },
     "execution_count": 21,
     "metadata": {},
     "output_type": "execute_result"
    }
   ],
   "source": [
    "new_features_0.mean(axis=0)"
   ]
  },
  {
   "cell_type": "code",
   "execution_count": 22,
   "id": "d8a9d26c",
   "metadata": {},
   "outputs": [
    {
     "data": {
      "text/plain": [
       "Neg         0.377120\n",
       "Pos         0.122394\n",
       "Neu         0.500488\n",
       "Compound   -0.349304\n",
       "dtype: float64"
      ]
     },
     "execution_count": 22,
     "metadata": {},
     "output_type": "execute_result"
    }
   ],
   "source": [
    "new_features_1.mean(axis=0)"
   ]
  },
  {
   "cell_type": "code",
   "execution_count": 23,
   "id": "f9cdab85",
   "metadata": {},
   "outputs": [
    {
     "data": {
      "text/plain": [
       "Neg         0.081207\n",
       "Pos         0.140675\n",
       "Neu         0.778120\n",
       "Compound    0.074586\n",
       "dtype: float64"
      ]
     },
     "execution_count": 23,
     "metadata": {},
     "output_type": "execute_result"
    }
   ],
   "source": [
    "new_features_2.mean(axis=0)"
   ]
  },
  {
   "cell_type": "code",
   "execution_count": 24,
   "id": "4c9aed2f",
   "metadata": {},
   "outputs": [],
   "source": [
    "# Count Vector\n",
    "from sklearn.feature_extraction.text import CountVectorizer    \n",
    "cv=CountVectorizer(max_features=3600)\n",
    "cv=cv.fit_transform(df_aug['processed_tweet'])\n",
    "cv_features = cv.toarray()"
   ]
  },
  {
   "cell_type": "code",
   "execution_count": 25,
   "id": "3d4592e2",
   "metadata": {},
   "outputs": [],
   "source": [
    "#TF-IDF\n",
    "from sklearn.feature_extraction.text import TfidfVectorizer\n",
    "tfidf_vectorizer = TfidfVectorizer(ngram_range=(1, 2),max_df=0.75, min_df=5, max_features=10000)\n",
    "tfidf = tfidf_vectorizer.fit_transform(df_aug['processed_tweet'])\n",
    "tfidf_features = tfidf.toarray()"
   ]
  },
  {
   "cell_type": "code",
   "execution_count": 26,
   "id": "e77bf7d9",
   "metadata": {},
   "outputs": [],
   "source": [
    "#Doc2Vec\n",
    "from gensim.models.doc2vec import Doc2Vec, TaggedDocument\n",
    "documents = [TaggedDocument(doc, [i]) for i, doc in enumerate(df_aug[\"processed_tweet\"].apply(lambda x: x.split(\" \")))]\n",
    "doc2vec_model = Doc2Vec(documents,vector_size=5, window=2, min_count=1, workers=4)\n",
    "doc2vec_features = df_aug[\"processed_tweet\"].apply(lambda x: doc2vec_model.infer_vector(x.split(\" \"))).apply(pd.Series)\n",
    "#doc2vec_features.columns = [\"doc2vec_vector_\" + str(x) for x in doc2vec_features.columns]"
   ]
  },
  {
   "cell_type": "code",
   "execution_count": 27,
   "id": "2e36b895",
   "metadata": {},
   "outputs": [],
   "source": [
    "#sentiment analysis features\n",
    "sa_features = pd.concat([new_features_0,new_features_1,new_features_2], ignore_index=True)"
   ]
  },
  {
   "cell_type": "code",
   "execution_count": 28,
   "id": "b5476c94",
   "metadata": {},
   "outputs": [],
   "source": [
    "total_features = np.concatenate([pd.DataFrame(cv_features),pd.DataFrame(tfidf_features),sa_features,doc2vec_features],axis=1)"
   ]
  },
  {
   "cell_type": "code",
   "execution_count": 29,
   "id": "c51c79a1",
   "metadata": {},
   "outputs": [],
   "source": [
    "# Splitting the dataset into the Training set and Test set\n",
    "from sklearn.model_selection import train_test_split\n",
    "X_train_cv, X_test_cv, y_train_cv, y_test_cv = train_test_split(cv_features, y, test_size = 0.1, random_state=0)\n",
    "X_train_tfidf, X_test_tfidf, y_train_tfidf, y_test_tfidf = train_test_split(tfidf_features, y, test_size = 0.1, random_state=0)\n",
    "X_train_d2v, X_test_d2v, y_train_d2v, y_test_d2v = train_test_split(doc2vec_features, y, test_size = 0.1, random_state=0)\n",
    "X_train_sa, X_test_sa, y_train_sa, y_test_sa = train_test_split(sa_features, y, test_size = 0.1, random_state=0)\n",
    "X_train_total, X_test_total, y_train_total, y_test_total = train_test_split(total_features, y, test_size = 0.1, random_state=0)\n",
    "\n",
    "#X_train_cv.shape, X_test_cv.shape\n",
    "splited_data= [(X_train_cv,y_train_cv,X_test_cv, y_test_cv), (X_train_sa,y_train_sa,X_test_sa, y_test_sa),\\\n",
    "              (X_train_tfidf,y_train_tfidf,X_test_tfidf, y_test_tfidf), (X_train_d2v,y_train_d2v,X_test_d2v, y_test_d2v),\\\n",
    "              (X_train_total,y_train_total,X_test_total, y_test_total)]"
   ]
  },
  {
   "cell_type": "markdown",
   "id": "edc0fc79",
   "metadata": {},
   "source": [
    "## Classifiers"
   ]
  },
  {
   "cell_type": "code",
   "execution_count": 30,
   "id": "c0ed725c",
   "metadata": {},
   "outputs": [],
   "source": [
    "from sklearn.metrics import accuracy_score, precision_score, recall_score, f1_score, confusion_matrix\n",
    "import seaborn\n",
    "feature_list = ['count vector', \"sentimental analysis\", \"tf-idf\", \"doc2vec\", \"combination\"]\n",
    "\n",
    "def result_evaluation(cm, y_test, pred, index, title):\n",
    "    matrix_proportions = np.zeros((3,3))\n",
    "    for i in range(0,3):\n",
    "        matrix_proportions[i,:] = cm[i,:]/float(cm[i,:].sum())\n",
    "    names=['Hate','Offensive','Neither']\n",
    "    confusion_df = pd.DataFrame(matrix_proportions, index=names,columns=names)\n",
    "    plt.rcParams['figure.figsize'] = [15,10]\n",
    "    ax = plt.subplot(2, 3, index+1)\n",
    "    ax = seaborn.heatmap(confusion_df,annot=True,annot_kws={\"size\": 12},cmap='YlGnBu',cbar=False, square=True,fmt='.2f')\n",
    "    ax.set_title(title)\n",
    "    \n",
    "    metrics_table['Accuracy score'].append(accuracy_score(y_test, pred))\n",
    "    metrics_table['Precision score'].append(precision_score(y_test, pred,average='weighted'))\n",
    "    metrics_table['Recall score'].append(recall_score(y_test, pred,average='weighted'))\n",
    "    metrics_table[\"f1 score\"].append(f1_score(y_test, pred,average='weighted'))"
   ]
  },
  {
   "cell_type": "markdown",
   "id": "fca3d9de",
   "metadata": {},
   "source": [
    "### Decision Tree"
   ]
  },
  {
   "cell_type": "code",
   "execution_count": 31,
   "id": "60962e7d",
   "metadata": {},
   "outputs": [
    {
     "data": {
      "image/png": "[encoded data removed]",
      "text/plain": [
       "<Figure size 1080x720 with 5 Axes>"
      ]
     },
     "metadata": {
      "needs_background": "light"
     },
     "output_type": "display_data"
    },
    {
     "data": {
      "text/html": [
       "<div>\n",
       "<style scoped>\n",
       "    .dataframe tbody tr th:only-of-type {\n",
       "        vertical-align: middle;\n",
       "    }\n",
       "\n",
       "    .dataframe tbody tr th {\n",
       "        vertical-align: top;\n",
       "    }\n",
       "\n",
       "    .dataframe thead th {\n",
       "        text-align: right;\n",
       "    }\n",
       "</style>\n",
       "<table border=\"1\" class=\"dataframe\">\n",
       "  <thead>\n",
       "    <tr style=\"text-align: right;\">\n",
       "      <th></th>\n",
       "      <th>Accuracy score</th>\n",
       "      <th>Precision score</th>\n",
       "      <th>Recall score</th>\n",
       "      <th>f1 score</th>\n",
       "    </tr>\n",
       "  </thead>\n",
       "  <tbody>\n",
       "    <tr>\n",
       "      <th>count vector</th>\n",
       "      <td>0.930603</td>\n",
       "      <td>0.933051</td>\n",
       "      <td>0.930603</td>\n",
       "      <td>0.930097</td>\n",
       "    </tr>\n",
       "    <tr>\n",
       "      <th>sentimental analysis</th>\n",
       "      <td>0.668951</td>\n",
       "      <td>0.685688</td>\n",
       "      <td>0.668951</td>\n",
       "      <td>0.660234</td>\n",
       "    </tr>\n",
       "    <tr>\n",
       "      <th>tf-idf</th>\n",
       "      <td>0.931117</td>\n",
       "      <td>0.931727</td>\n",
       "      <td>0.931117</td>\n",
       "      <td>0.930754</td>\n",
       "    </tr>\n",
       "    <tr>\n",
       "      <th>doc2vec</th>\n",
       "      <td>0.444311</td>\n",
       "      <td>0.444634</td>\n",
       "      <td>0.444311</td>\n",
       "      <td>0.444438</td>\n",
       "    </tr>\n",
       "    <tr>\n",
       "      <th>combination</th>\n",
       "      <td>0.909527</td>\n",
       "      <td>0.910150</td>\n",
       "      <td>0.909527</td>\n",
       "      <td>0.909359</td>\n",
       "    </tr>\n",
       "  </tbody>\n",
       "</table>\n",
       "</div>"
      ],
      "text/plain": [
       "                      Accuracy score  Precision score  Recall score  f1 score\n",
       "count vector                0.930603         0.933051      0.930603  0.930097\n",
       "sentimental analysis        0.668951         0.685688      0.668951  0.660234\n",
       "tf-idf                      0.931117         0.931727      0.931117  0.930754\n",
       "doc2vec                     0.444311         0.444634      0.444311  0.444438\n",
       "combination                 0.909527         0.910150      0.909527  0.909359"
      ]
     },
     "execution_count": 31,
     "metadata": {},
     "output_type": "execute_result"
    }
   ],
   "source": [
    "from sklearn.tree import DecisionTreeClassifier\n",
    "\n",
    "metrics_table = {\n",
    "    'Accuracy score':[],\n",
    "    'Precision score':[],\n",
    "    'Recall score':[],\n",
    "    'f1 score':[]\n",
    "}\n",
    "\n",
    "for i in range(len(splited_data)):\n",
    "    data = splited_data[i]\n",
    "    classifier = DecisionTreeClassifier()\n",
    "    classifier.fit(data[0], data[1])\n",
    "    pred = classifier.predict(data[2])\n",
    "    cm = confusion_matrix(data[3],pred)\n",
    "    title = feature_list[i]\n",
    "    result_evaluation(cm, data[3], pred, i, title)\n",
    "\n",
    "plt.tight_layout()     \n",
    "plt.show()  \n",
    "metrics_table = pd.DataFrame(metrics_table, index = feature_list)\n",
    "metrics_table"
   ]
  },
  {
   "cell_type": "markdown",
   "id": "da3c7973",
   "metadata": {},
   "source": [
    "### Logistic Regression"
   ]
  },
  {
   "cell_type": "code",
   "execution_count": 32,
   "id": "5a6c426d",
   "metadata": {},
   "outputs": [
    {
     "data": {
      "image/png": "[encoded data removed]",
      "text/plain": [
       "<Figure size 1080x720 with 5 Axes>"
      ]
     },
     "metadata": {
      "needs_background": "light"
     },
     "output_type": "display_data"
    },
    {
     "data": {
      "text/html": [
       "<div>\n",
       "<style scoped>\n",
       "    .dataframe tbody tr th:only-of-type {\n",
       "        vertical-align: middle;\n",
       "    }\n",
       "\n",
       "    .dataframe tbody tr th {\n",
       "        vertical-align: top;\n",
       "    }\n",
       "\n",
       "    .dataframe thead th {\n",
       "        text-align: right;\n",
       "    }\n",
       "</style>\n",
       "<table border=\"1\" class=\"dataframe\">\n",
       "  <thead>\n",
       "    <tr style=\"text-align: right;\">\n",
       "      <th></th>\n",
       "      <th>Accuracy score</th>\n",
       "      <th>Precision score</th>\n",
       "      <th>Recall score</th>\n",
       "      <th>f1 score</th>\n",
       "    </tr>\n",
       "  </thead>\n",
       "  <tbody>\n",
       "    <tr>\n",
       "      <th>count vector</th>\n",
       "      <td>0.919808</td>\n",
       "      <td>0.920056</td>\n",
       "      <td>0.919808</td>\n",
       "      <td>0.919357</td>\n",
       "    </tr>\n",
       "    <tr>\n",
       "      <th>sentimental analysis</th>\n",
       "      <td>0.521247</td>\n",
       "      <td>0.509670</td>\n",
       "      <td>0.521247</td>\n",
       "      <td>0.480594</td>\n",
       "    </tr>\n",
       "    <tr>\n",
       "      <th>tf-idf</th>\n",
       "      <td>0.940884</td>\n",
       "      <td>0.941447</td>\n",
       "      <td>0.940884</td>\n",
       "      <td>0.940485</td>\n",
       "    </tr>\n",
       "    <tr>\n",
       "      <th>doc2vec</th>\n",
       "      <td>0.474640</td>\n",
       "      <td>0.471580</td>\n",
       "      <td>0.474640</td>\n",
       "      <td>0.472304</td>\n",
       "    </tr>\n",
       "    <tr>\n",
       "      <th>combination</th>\n",
       "      <td>0.946710</td>\n",
       "      <td>0.947103</td>\n",
       "      <td>0.946710</td>\n",
       "      <td>0.946390</td>\n",
       "    </tr>\n",
       "  </tbody>\n",
       "</table>\n",
       "</div>"
      ],
      "text/plain": [
       "                      Accuracy score  Precision score  Recall score  f1 score\n",
       "count vector                0.919808         0.920056      0.919808  0.919357\n",
       "sentimental analysis        0.521247         0.509670      0.521247  0.480594\n",
       "tf-idf                      0.940884         0.941447      0.940884  0.940485\n",
       "doc2vec                     0.474640         0.471580      0.474640  0.472304\n",
       "combination                 0.946710         0.947103      0.946710  0.946390"
      ]
     },
     "execution_count": 32,
     "metadata": {},
     "output_type": "execute_result"
    }
   ],
   "source": [
    "from sklearn.linear_model import LogisticRegression\n",
    "\n",
    "metrics_table = {\n",
    "    'Accuracy score':[],\n",
    "    'Precision score':[],\n",
    "    'Recall score':[],\n",
    "    'f1 score':[]\n",
    "}\n",
    "\n",
    "for i in range(len(splited_data)):\n",
    "    data = splited_data[i]\n",
    "    classifier = LogisticRegression()\n",
    "    classifier.fit(data[0], data[1])\n",
    "    pred = classifier.predict(data[2])\n",
    "    cm = confusion_matrix(data[3],pred)\n",
    "    title = feature_list[i]\n",
    "    result_evaluation(cm, data[3], pred, i, title)\n",
    "\n",
    "plt.tight_layout()     \n",
    "plt.show()  \n",
    "metrics_table = pd.DataFrame(metrics_table, index = feature_list)\n",
    "metrics_table"
   ]
  },
  {
   "cell_type": "markdown",
   "id": "1b54cce5",
   "metadata": {},
   "source": [
    "### Naive Bayes"
   ]
  },
  {
   "cell_type": "code",
   "execution_count": 33,
   "id": "eab900b2",
   "metadata": {},
   "outputs": [
    {
     "data": {
      "image/png": "[encoded data removed]",
      "text/plain": [
       "<Figure size 1080x720 with 5 Axes>"
      ]
     },
     "metadata": {
      "needs_background": "light"
     },
     "output_type": "display_data"
    },
    {
     "data": {
      "text/html": [
       "<div>\n",
       "<style scoped>\n",
       "    .dataframe tbody tr th:only-of-type {\n",
       "        vertical-align: middle;\n",
       "    }\n",
       "\n",
       "    .dataframe tbody tr th {\n",
       "        vertical-align: top;\n",
       "    }\n",
       "\n",
       "    .dataframe thead th {\n",
       "        text-align: right;\n",
       "    }\n",
       "</style>\n",
       "<table border=\"1\" class=\"dataframe\">\n",
       "  <thead>\n",
       "    <tr style=\"text-align: right;\">\n",
       "      <th></th>\n",
       "      <th>Accuracy score</th>\n",
       "      <th>Precision score</th>\n",
       "      <th>Recall score</th>\n",
       "      <th>f1 score</th>\n",
       "    </tr>\n",
       "  </thead>\n",
       "  <tbody>\n",
       "    <tr>\n",
       "      <th>count vector</th>\n",
       "      <td>0.625257</td>\n",
       "      <td>0.704417</td>\n",
       "      <td>0.625257</td>\n",
       "      <td>0.601606</td>\n",
       "    </tr>\n",
       "    <tr>\n",
       "      <th>sentimental analysis</th>\n",
       "      <td>0.522104</td>\n",
       "      <td>0.512755</td>\n",
       "      <td>0.522104</td>\n",
       "      <td>0.469691</td>\n",
       "    </tr>\n",
       "    <tr>\n",
       "      <th>tf-idf</th>\n",
       "      <td>0.783071</td>\n",
       "      <td>0.812758</td>\n",
       "      <td>0.783071</td>\n",
       "      <td>0.780074</td>\n",
       "    </tr>\n",
       "    <tr>\n",
       "      <th>doc2vec</th>\n",
       "      <td>0.481494</td>\n",
       "      <td>0.494130</td>\n",
       "      <td>0.481494</td>\n",
       "      <td>0.471659</td>\n",
       "    </tr>\n",
       "    <tr>\n",
       "      <th>combination</th>\n",
       "      <td>0.810658</td>\n",
       "      <td>0.830965</td>\n",
       "      <td>0.810658</td>\n",
       "      <td>0.808651</td>\n",
       "    </tr>\n",
       "  </tbody>\n",
       "</table>\n",
       "</div>"
      ],
      "text/plain": [
       "                      Accuracy score  Precision score  Recall score  f1 score\n",
       "count vector                0.625257         0.704417      0.625257  0.601606\n",
       "sentimental analysis        0.522104         0.512755      0.522104  0.469691\n",
       "tf-idf                      0.783071         0.812758      0.783071  0.780074\n",
       "doc2vec                     0.481494         0.494130      0.481494  0.471659\n",
       "combination                 0.810658         0.830965      0.810658  0.808651"
      ]
     },
     "execution_count": 33,
     "metadata": {},
     "output_type": "execute_result"
    }
   ],
   "source": [
    "from sklearn.naive_bayes import GaussianNB\n",
    "\n",
    "metrics_table = {\n",
    "    'Accuracy score':[],\n",
    "    'Precision score':[],\n",
    "    'Recall score':[],\n",
    "    'f1 score':[]\n",
    "}\n",
    "\n",
    "for i in range(len(splited_data)):\n",
    "    data = splited_data[i]\n",
    "    classifier = GaussianNB()\n",
    "    classifier.fit(data[0], data[1])\n",
    "    pred = classifier.predict(data[2])\n",
    "    cm = confusion_matrix(data[3],pred)\n",
    "    title = feature_list[i]\n",
    "    result_evaluation(cm, data[3], pred, i, title)\n",
    "\n",
    "plt.tight_layout()     \n",
    "plt.show()  \n",
    "metrics_table = pd.DataFrame(metrics_table, index = feature_list)\n",
    "metrics_table"
   ]
  },
  {
   "cell_type": "code",
   "execution_count": null,
   "id": "22a554ce",
   "metadata": {},
   "outputs": [],
   "source": []
  }
 ],
 "metadata": {
  "kernelspec": {
   "display_name": "Python 3 (ipykernel)",
   "language": "python",
   "name": "python3"
  },
  "language_info": {
   "codemirror_mode": {
    "name": "ipython",
    "version": 3
   },
   "file_extension": ".py",
   "mimetype": "text/x-python",
   "name": "python",
   "nbconvert_exporter": "python",
   "pygments_lexer": "ipython3",
   "version": "3.9.6"
  }
 },
 "nbformat": 4,
 "nbformat_minor": 5
}
